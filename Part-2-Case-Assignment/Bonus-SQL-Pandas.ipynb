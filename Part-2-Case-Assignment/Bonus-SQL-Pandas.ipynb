{
 "cells": [
  {
   "cell_type": "code",
   "execution_count": null,
   "metadata": {},
   "outputs": [],
   "source": [
    "import psycopg2\n",
    "import pandas as pd\n",
    "import \n",
    "import matplotlib\n",
    "import sqlalchemy\n",
    "from sqlalchemy import create_engine\n",
    "\n"
   ]
  },
  {
   "cell_type": "code",
   "execution_count": null,
   "metadata": {},
   "outputs": [],
   "source": [
    "user = 'postgres'\n",
    "password = 'password'\n",
    "host = 'localhost'\n",
    "port = 5432\n",
    "dbname = 'employees'\n",
    "engine = create_engine(f'postgres://{user}:{password}@{host}:{port}/{dbname}')\n",
    "engine = engine.connect()\n",
    "conn = engine.connect()"
   ]
  },
  {
   "cell_type": "code",
   "execution_count": null,
   "metadata": {},
   "outputs": [],
   "source": [
    "#Read all data form sql files\n",
    "departments_df = pd.read_sql('SELECT * FROM departments', conn)\n",
    "dept_emp_df = pd.read_sql('SELECT * FROM dept_emp', conn)\n",
    "dept_manager_df = pd.read_sql('SELECT * FROM dept_manager', conn)\n",
    "employees_df = pd.read_sql('SELECT * FROM employees', conn)\n",
    "salaries_df = pd.read_sql('SELECT * FROM salaries', conn)\n",
    "titles_df = pd.read_sql('SELECT * FROM titles', conn)"
   ]
  },
  {
   "cell_type": "code",
   "execution_count": null,
   "metadata": {},
   "outputs": [],
   "source": [
    "#Rename column\n",
    "employees_df.rename(columns = {'emp_title_id':'title_id'}, inplace = True) \n",
    "employees_df.head()"
   ]
  },
  {
   "cell_type": "code",
   "execution_count": null,
   "metadata": {},
   "outputs": [],
   "source": [
    " #Plot histogram salary range for employee\n",
    "ax = salaries_df.hist(column='salary', bins=25, grid=False, figsize=(12,8), color='red', zorder=2, rwidth=0.9)\n",
    "\n",
    "ax = ax[0]\n",
    "for x in ax:\n",
    "\n",
    "    # Set the limits on the y-axis\n",
    "    x.set_ylim(0, 120000)\n",
    "    \n",
    "    # Draw horizontal axis lines\n",
    "    vals = x.get_yticks()\n",
    "    for tick in vals:\n",
    "        x.axhline(y=tick, linestyle='solid', alpha=0.4, color='#777777', zorder=1)\n",
    "\n",
    "    # Set title\n",
    "    x.set_title(f\"\\n Salary Range Histogram - Pewlett-Hackard 1985-2000 \\n\", weight='bold', size=16)\n",
    "\n",
    "    # Set x- and y-axis labels\n",
    "    x.set_xlabel(\"Salary\", labelpad=20, weight='bold', size=12)\n",
    "    x.set_ylabel(\"Frequency\", labelpad=20, weight='bold', size=12)\n",
    "\n",
    "    # Format x- and y-axis labels\n",
    "    x.xaxis.set_major_formatter(StrMethodFormatter('${x:,g}'))\n",
    "    x.yaxis.set_major_formatter(StrMethodFormatter('{x:,g}'))"
   ]
  },
  {
   "cell_type": "code",
   "execution_count": null,
   "metadata": {},
   "outputs": [],
   "source": [
    "# Merge 3 dataframes/SQLtables to be able to plot Average Salary by Employee Title\n",
    "df1 = pd.merge(employees_df, titles_df, on=\"title_id\")\n",
    "df2 = pd.merge(df1, salaries_df, on=\"emp_no\")\n",
    "df2.head()"
   ]
  },
  {
   "cell_type": "code",
   "execution_count": null,
   "metadata": {},
   "outputs": [],
   "source": [
    "# Perform Groupby and calculate average salary by employee title\n",
    "avg_salary_by_title = df2.groupby(\"title\")[\"salary\"].mean()\n",
    "avg_salary_by_title_df = pd.DataFrame(avg_salary_by_title).reset_index()\n",
    "avg_salary_by_title_df.rename(columns = {'title':'Employee Title', 'salary':'Average Salary'}, inplace = True) \n",
    "avg_salary_by_title_df"
   ]
  },
  {
   "cell_type": "code",
   "execution_count": null,
   "metadata": {},
   "outputs": [],
   "source": [
    "# Plot bar graph of Average Salary by employees\n",
    "ax = avg_salary_by_title_df.plot.bar(x='Employee Title',\n",
    "                                     y='Average Salary',\n",
    "                                     legend=None,\n",
    "                                     rot=0,\n",
    "                                     grid=False,\n",
    "                                     color=['C0', 'C1', 'C2', 'C3', 'C4', 'C5', 'C6'],\n",
    "                                     alpha=1.0,\n",
    "                                     zorder=2,\n",
    "                                     figsize=(12,8))\n",
    "\n",
    "# Set the limits on the y-axis\n",
    "ax.set_ylim(0, 60000)\n",
    "\n",
    "# Draw horizontal axis lines\n",
    "vals = np.arange(0, 60000, 10000)\n",
    "for tick in vals:\n",
    "    ax.axhline(y=tick, linestyle='solid', alpha=0.4, color='#777777') #, zorder=1)\n",
    "\n",
    "# Set title\n",
    "ax.set_title(f\"\\n Average Salary by Employee Title - Pewlett-Hackard 1985-2000 \\n\", weight='bold', size=16)\n",
    "\n",
    "# Set x- and y-axis labels\n",
    "ax.set_xlabel(\"Employee Title\", labelpad=20, weight='bold', size=12)\n",
    "ax.set_ylabel(\"Average Salary\", labelpad=20, weight='bold', size=12)\n",
    "\n",
    "# Format y-axis labels\n",
    "ax.yaxis.set_major_formatter(StrMethodFormatter('${x:,g}'))"
   ]
  },
  {
   "cell_type": "code",
   "execution_count": null,
   "metadata": {},
   "outputs": [],
   "source": []
  },
  {
   "cell_type": "code",
   "execution_count": null,
   "metadata": {},
   "outputs": [],
   "source": []
  }
 ],
 "metadata": {
  "kernelspec": {
   "display_name": "Python 3",
   "language": "python",
   "name": "python3"
  },
  "language_info": {
   "codemirror_mode": {
    "name": "ipython",
    "version": 3
   },
   "file_extension": ".py",
   "mimetype": "text/x-python",
   "name": "python",
   "nbconvert_exporter": "python",
   "pygments_lexer": "ipython3",
   "version": "3.8.3"
  }
 },
 "nbformat": 4,
 "nbformat_minor": 4
}
